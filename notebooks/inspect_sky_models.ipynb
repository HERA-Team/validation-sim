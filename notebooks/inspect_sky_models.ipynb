{
 "cells": [
  {
   "cell_type": "markdown",
   "id": "0c871389-cea5-4403-b251-b559841a5b68",
   "metadata": {},
   "source": [
    "# Inspect Sky Models"
   ]
  },
  {
   "cell_type": "code",
   "execution_count": 3,
   "id": "7e5f82c7-b6f6-47e1-9198-4947b330f1a8",
   "metadata": {},
   "outputs": [],
   "source": [
    "import numpy as np\n",
    "import matplotlib.pyplot as plt"
   ]
  },
  {
   "cell_type": "code",
   "execution_count": 4,
   "id": "df56b717-b4fa-4c8c-bfa4-9b726b450c55",
   "metadata": {},
   "outputs": [],
   "source": [
    "freq_channel = 500"
   ]
  },
  {
   "cell_type": "code",
   "execution_count": 5,
   "id": "e2aa8062-7ddc-46f5-9b0c-1c4ec6617144",
   "metadata": {},
   "outputs": [],
   "source": [
    "from pyradiosky import SkyModel"
   ]
  },
  {
   "cell_type": "code",
   "execution_count": 6,
   "id": "26a880aa-c6b9-49d0-a61a-13a3a814969e",
   "metadata": {},
   "outputs": [],
   "source": [
    "ptsrc_model = SkyModel.from_skyh5(\"../sky_models/ptsrc1024/fch0150.skyh5\")"
   ]
  },
  {
   "cell_type": "code",
   "execution_count": null,
   "id": "314a45e9-1a59-499f-841c-b8eeeb162052",
   "metadata": {},
   "outputs": [],
   "source": [
    "ptsrc_hlp = ptsrc_model.assign_to_healpix(nside=1024, full_sky=True)"
   ]
  },
  {
   "cell_type": "code",
   "execution_count": 9,
   "id": "4f63c5a2-a7d8-4f7b-af2f-33facf78ee13",
   "metadata": {},
   "outputs": [],
   "source": [
    "from scipy import special as sp"
   ]
  },
  {
   "cell_type": "code",
   "execution_count": null,
   "id": "03ccee91-ef23-4663-99ca-24d4d6a8aa14",
   "metadata": {},
   "outputs": [],
   "source": [
    "sp.y"
   ]
  }
 ],
 "metadata": {
  "kernelspec": {
   "display_name": "h6c-sim",
   "language": "python",
   "name": "h6c-sim"
  },
  "language_info": {
   "codemirror_mode": {
    "name": "ipython",
    "version": 3
   },
   "file_extension": ".py",
   "mimetype": "text/x-python",
   "name": "python",
   "nbconvert_exporter": "python",
   "pygments_lexer": "ipython3",
   "version": "3.10.14"
  }
 },
 "nbformat": 4,
 "nbformat_minor": 5
}
