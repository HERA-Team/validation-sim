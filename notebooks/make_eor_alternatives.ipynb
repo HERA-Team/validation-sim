{
 "cells": [
  {
   "cell_type": "markdown",
   "id": "169b927c",
   "metadata": {
    "toc": true
   },
   "source": [
    "<h1>Table of Contents<span class=\"tocSkip\"></span></h1>\n",
    "<div class=\"toc\"><ul class=\"toc-item\"></ul></div>"
   ]
  },
  {
   "cell_type": "markdown",
   "id": "c7c39aab",
   "metadata": {},
   "source": [
    "Make a couple of different EOR sky models for testing: one that is upscaled to Nside=256, and one where the pixels are rotated arbitrarily"
   ]
  },
  {
   "cell_type": "code",
   "execution_count": 60,
   "id": "3fb8443c",
   "metadata": {},
   "outputs": [],
   "source": [
    "from pyradiosky import SkyModel\n",
    "import healpy as hp\n",
    "from pathlib import Path\n",
    "import numpy as np\n",
    "import h5py\n",
    "from astropy import units as un\n",
    "from astropy.coordinates import spherical_to_cartesian, cartesian_to_spherical, SkyCoord"
   ]
  },
  {
   "cell_type": "code",
   "execution_count": 26,
   "id": "9283b457",
   "metadata": {},
   "outputs": [],
   "source": [
    "sm = Path(\"../sky_models\")\n",
    "eor = sm / 'eor'"
   ]
  },
  {
   "cell_type": "code",
   "execution_count": 28,
   "id": "29953b83",
   "metadata": {},
   "outputs": [
    {
     "data": {
      "text/plain": [
       "'icrs'"
      ]
     },
     "execution_count": 28,
     "metadata": {},
     "output_type": "execute_result"
    }
   ],
   "source": [
    "first_sky.frame"
   ]
  },
  {
   "cell_type": "code",
   "execution_count": 36,
   "id": "6ce1c8dd",
   "metadata": {},
   "outputs": [],
   "source": [
    "out_params = {\n",
    "    \"component_type\": \"healpix\",\n",
    "    \"nside\": 256,\n",
    "    \"hpx_inds\": np.arange(hp.nside2npix(256)),\n",
    "    \"hpx_order\": \"ring\",\n",
    "    \"spectral_type\": \"full\",\n",
    "    #\"freq_array\": freq,\n",
    "    #\"stokes\": stokes,\n",
    "    \"frame\": 'icrs',\n",
    "}\n"
   ]
  },
  {
   "cell_type": "code",
   "execution_count": 29,
   "id": "aad10199",
   "metadata": {},
   "outputs": [],
   "source": [
    "first_sky.write_skyh5?"
   ]
  },
  {
   "cell_type": "code",
   "execution_count": 30,
   "id": "15632006",
   "metadata": {},
   "outputs": [],
   "source": [
    "(sm / 'eor256').mkdir()"
   ]
  },
  {
   "cell_type": "code",
   "execution_count": 40,
   "id": "5755d27f",
   "metadata": {},
   "outputs": [],
   "source": [
    "stokes256 = np.zeros((4, 1, hp.nside2npix(256))) * first_sky.stokes.unit\n",
    "\n",
    "for ch in range(175, 325):\n",
    "    with h5py.File(eor / f\"fch0{ch}.skyh5\", 'r') as fl:\n",
    "        mp = fl['Data']['stokes'][0,0]\n",
    "        freq = fl['Header']['freq_array'][()] * un.Hz\n",
    "        stokes256[0] = hp.ud_grade(mp, nside_out=256) * first_sky.stokes.unit\n",
    "        \n",
    "        sky_model = SkyModel(freq_array=freq, stokes=stokes256, **out_params)    \n",
    "        sky_model.write_skyh5(sm / 'eor256' / f\"fch0{ch}.skyh5\")"
   ]
  },
  {
   "cell_type": "code",
   "execution_count": 41,
   "id": "e3a4f2b7",
   "metadata": {},
   "outputs": [],
   "source": [
    "from scipy.spatial.transform import Rotation"
   ]
  },
  {
   "cell_type": "code",
   "execution_count": 43,
   "id": "85ea6740",
   "metadata": {},
   "outputs": [],
   "source": [
    "r = Rotation.from_euler('xyz', [np.pi/6, np.pi/10.7, np.pi/17.8])"
   ]
  },
  {
   "cell_type": "code",
   "execution_count": 45,
   "id": "238925a7",
   "metadata": {},
   "outputs": [],
   "source": [
    "spherical_to_cartesian?"
   ]
  },
  {
   "cell_type": "code",
   "execution_count": 46,
   "id": "049885fa",
   "metadata": {},
   "outputs": [],
   "source": [
    "skypoint = first_sky.copy()"
   ]
  },
  {
   "cell_type": "code",
   "execution_count": 47,
   "id": "fc04f88d",
   "metadata": {},
   "outputs": [],
   "source": [
    "skypoint.healpix_to_point()"
   ]
  },
  {
   "cell_type": "code",
   "execution_count": 54,
   "id": "115d0ae8",
   "metadata": {},
   "outputs": [
    {
     "data": {
      "text/plain": [
       "<SkyCoord (ICRS): (ra, dec) in deg\n",
       "    [( 45.,  89.6345165), (135.,  89.6345165), (225.,  89.6345165), ...,\n",
       "     (135., -89.6345165), (225., -89.6345165), (315., -89.6345165)]>"
      ]
     },
     "execution_count": 54,
     "metadata": {},
     "output_type": "execute_result"
    }
   ],
   "source": [
    "skypoint.skycoord"
   ]
  },
  {
   "cell_type": "code",
   "execution_count": 62,
   "id": "6d2c86ce",
   "metadata": {},
   "outputs": [],
   "source": [
    "(sm / 'eor-rotated').mkdir()"
   ]
  },
  {
   "cell_type": "code",
   "execution_count": 63,
   "id": "ac50cf40",
   "metadata": {},
   "outputs": [],
   "source": [
    "stokes = np.zeros((4, 1, hp.nside2npix(128))) * first_sky.stokes.unit\n",
    "\n",
    "for ch in range(175, 325):\n",
    "    sky = SkyModel.from_skyh5(eor / f\"fch0{ch}.skyh5\")\n",
    "    sky.healpix_to_point()\n",
    "    \n",
    "    lon, lat = sky.get_lon_lat()\n",
    "    x,y,z = spherical_to_cartesian(r=1, lat=lat, lon=lon)\n",
    "    x,y,z = r.apply(np.array([x,y,z]).T).T\n",
    "    _, lat, lon = cartesian_to_spherical(x,y,z)\n",
    "    \n",
    "    sky.skycoord = SkyCoord(lon, lat, frame='icrs')\n",
    "    sky.write_skyh5(sm / 'eor-rotated' / f\"fch0{ch}.skyh5\")"
   ]
  },
  {
   "cell_type": "code",
   "execution_count": 9,
   "id": "b3d8b741",
   "metadata": {},
   "outputs": [],
   "source": [
    "lon, lat = first_sky.get_lon_lat()"
   ]
  },
  {
   "cell_type": "code",
   "execution_count": 14,
   "id": "3db27fe5",
   "metadata": {},
   "outputs": [
    {
     "data": {
      "text/plain": [
       "array([0.78539816, 2.35619449, 3.92699082, ..., 2.35619449, 3.92699082,\n",
       "       5.49778714])"
      ]
     },
     "execution_count": 14,
     "metadata": {},
     "output_type": "execute_result"
    }
   ],
   "source": [
    "lon.rad"
   ]
  },
  {
   "cell_type": "code",
   "execution_count": 15,
   "id": "86e4aae7",
   "metadata": {},
   "outputs": [],
   "source": [
    "lon = lon.rad\n",
    "lat = lat.rad"
   ]
  },
  {
   "cell_type": "code",
   "execution_count": 17,
   "id": "e9620969",
   "metadata": {},
   "outputs": [],
   "source": [
    "stokes = first_sky.stokes[0,0]"
   ]
  },
  {
   "cell_type": "code",
   "execution_count": 27,
   "id": "c7a378a0",
   "metadata": {},
   "outputs": [],
   "source": [
    "hp.ud_grade?"
   ]
  },
  {
   "cell_type": "code",
   "execution_count": 21,
   "id": "ec16cb76",
   "metadata": {},
   "outputs": [],
   "source": [
    "stokes256 = hp.ud_grade(stokes, nside_out=256)"
   ]
  },
  {
   "cell_type": "code",
   "execution_count": 22,
   "id": "e1d173b9",
   "metadata": {},
   "outputs": [
    {
     "data": {
      "text/plain": [
       "(786432,)"
      ]
     },
     "execution_count": 22,
     "metadata": {},
     "output_type": "execute_result"
    }
   ],
   "source": [
    "stokes256.shape"
   ]
  },
  {
   "cell_type": "code",
   "execution_count": null,
   "id": "9140fd51",
   "metadata": {},
   "outputs": [],
   "source": []
  }
 ],
 "metadata": {
  "kernelspec": {
   "display_name": "h4c-sim",
   "language": "python",
   "name": "h4c-sim"
  },
  "language_info": {
   "codemirror_mode": {
    "name": "ipython",
    "version": 3
   },
   "file_extension": ".py",
   "mimetype": "text/x-python",
   "name": "python",
   "nbconvert_exporter": "python",
   "pygments_lexer": "ipython3",
   "version": "3.10.13"
  },
  "toc": {
   "base_numbering": 1,
   "nav_menu": {},
   "number_sections": true,
   "sideBar": true,
   "skip_h1_title": true,
   "title_cell": "Table of Contents",
   "title_sidebar": "Contents",
   "toc_cell": true,
   "toc_position": {},
   "toc_section_display": true,
   "toc_window_display": false
  }
 },
 "nbformat": 4,
 "nbformat_minor": 5
}
