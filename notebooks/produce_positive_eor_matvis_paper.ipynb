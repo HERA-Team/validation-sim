{
 "cells": [
  {
   "cell_type": "code",
   "execution_count": 1,
   "id": "028e93e1-f0db-40fa-be2a-917b15af414f",
   "metadata": {},
   "outputs": [],
   "source": [
    "import h5py\n",
    "import numpy as np\n",
    "import matplotlib.pyplot as plt"
   ]
  },
  {
   "cell_type": "code",
   "execution_count": 2,
   "id": "c29f742f-d29c-4222-bec6-fac4d272ca0b",
   "metadata": {},
   "outputs": [],
   "source": [
    "thefile = \"sky_models/eor/healpix-maps1024.h5\"\n",
    "newfile = \"sky_models/eor/healpix-maps1024-monopole.h5\""
   ]
  },
  {
   "cell_type": "code",
   "execution_count": 28,
   "id": "e341c30c-a904-4d82-8044-949c231b9723",
   "metadata": {},
   "outputs": [],
   "source": [
    "mins = []\n",
    "with h5py.File(thefile, 'r') as fl:\n",
    "    for i in range(1):#range(1536):\n",
    "        mins.append(fl['healpix_maps'][i].min())"
   ]
  },
  {
   "cell_type": "code",
   "execution_count": 29,
   "id": "364fa1d6-f246-482d-af37-fbee2a69ccf2",
   "metadata": {},
   "outputs": [
    {
     "data": {
      "text/plain": [
       "[np.float64(-0.36825310174864345)]"
      ]
     },
     "execution_count": 29,
     "metadata": {},
     "output_type": "execute_result"
    }
   ],
   "source": [
    "mins"
   ]
  },
  {
   "cell_type": "code",
   "execution_count": 3,
   "id": "58714b7d-d42d-46cb-b284-77551617d3d6",
   "metadata": {},
   "outputs": [],
   "source": [
    "newmins = []\n",
    "with h5py.File(newfile, 'r') as fl:\n",
    "    for i in range(1536):\n",
    "        newmins.append(fl['healpix_maps'][i].min())"
   ]
  },
  {
   "cell_type": "code",
   "execution_count": 27,
   "id": "66d9018e-f874-4ffa-a5eb-032607daaff5",
   "metadata": {},
   "outputs": [
    {
     "data": {
      "text/plain": [
       "np.float32(54.63175)"
      ]
     },
     "execution_count": 27,
     "metadata": {},
     "output_type": "execute_result"
    }
   ],
   "source": [
    "newmins[0]"
   ]
  },
  {
   "cell_type": "code",
   "execution_count": 5,
   "id": "48f68925-75e1-49f8-aaf6-45123fe3187e",
   "metadata": {},
   "outputs": [
    {
     "data": {
      "text/plain": [
       "[<matplotlib.lines.Line2D at 0x14cc18755330>]"
      ]
     },
     "execution_count": 5,
     "metadata": {},
     "output_type": "execute_result"
    },
    {
     "data": {
      "image/png": "[encoded data removed]",
      "text/plain": [
       "<Figure size 640x480 with 1 Axes>"
      ]
     },
     "metadata": {},
     "output_type": "display_data"
    }
   ],
   "source": [
    "plt.plot(newmins)"
   ]
  },
  {
   "cell_type": "code",
   "execution_count": 6,
   "id": "6bff2ac4-e672-4fde-91fa-08e1db7dc741",
   "metadata": {},
   "outputs": [
    {
     "data": {
      "text/plain": [
       "np.float64(-54.29624761093532)"
      ]
     },
     "execution_count": 6,
     "metadata": {},
     "output_type": "execute_result"
    }
   ],
   "source": [
    "np.min(mins)"
   ]
  },
  {
   "cell_type": "code",
   "execution_count": 7,
   "id": "ee3ecf99-01a4-45e3-93af-835619674bb9",
   "metadata": {},
   "outputs": [
    {
     "data": {
      "text/plain": [
       "12.0"
      ]
     },
     "execution_count": 7,
     "metadata": {},
     "output_type": "execute_result"
    }
   ],
   "source": [
    "1024**2 * 1536 * 8 / 1024**3"
   ]
  },
  {
   "cell_type": "code",
   "execution_count": 6,
   "id": "9a52c500-0af3-446f-be1f-d4db4dad292c",
   "metadata": {},
   "outputs": [],
   "source": [
    "import sys"
   ]
  },
  {
   "cell_type": "code",
   "execution_count": 7,
   "id": "31253a6a-cf47-401f-8b66-e58b3bef26d1",
   "metadata": {},
   "outputs": [],
   "source": [
    "sys.path.append(\"core\")"
   ]
  },
  {
   "cell_type": "code",
   "execution_count": 8,
   "id": "46d29a40-c066-4d13-bab3-645f1bbf5942",
   "metadata": {},
   "outputs": [],
   "source": [
    "import utils"
   ]
  },
  {
   "cell_type": "code",
   "execution_count": 9,
   "id": "91a4efd3-bc63-4b86-aeff-35e3e77afc4b",
   "metadata": {},
   "outputs": [],
   "source": [
    "freqs = utils.FREQS_DICT['H4C']"
   ]
  },
  {
   "cell_type": "code",
   "execution_count": 12,
   "id": "a95b3e91-5361-453d-9a0d-c2cdd9a04f19",
   "metadata": {},
   "outputs": [],
   "source": [
    "zs = 1420e6 / freqs  -1"
   ]
  },
  {
   "cell_type": "code",
   "execution_count": 22,
   "id": "1f56d1cb-044f-4542-9fac-f3f0887c437d",
   "metadata": {},
   "outputs": [
    {
     "data": {
      "text/plain": [
       "np.float64(144.5770263671875)"
      ]
     },
     "execution_count": 22,
     "metadata": {},
     "output_type": "execute_result"
    }
   ],
   "source": [
    "freqs[800] / 1e6"
   ]
  },
  {
   "cell_type": "code",
   "execution_count": 23,
   "id": "cef42f4a-99e9-4acb-9e18-7843720de9b7",
   "metadata": {},
   "outputs": [
    {
     "data": {
      "text/plain": [
       "np.float64(162.8875732421875)"
      ]
     },
     "execution_count": 23,
     "metadata": {},
     "output_type": "execute_result"
    }
   ],
   "source": [
    "freqs[950]/1e6"
   ]
  },
  {
   "cell_type": "code",
   "execution_count": null,
   "id": "742dcac7-1de6-4c53-bcc0-03c1915ac011",
   "metadata": {},
   "outputs": [],
   "source": []
  },
  {
   "cell_type": "code",
   "execution_count": 25,
   "id": "a23276f6-e78d-4a5a-8e7f-88526c37a883",
   "metadata": {},
   "outputs": [
    {
     "data": {
      "text/plain": [
       "np.float64(10.37135467577527)"
      ]
     },
     "execution_count": 25,
     "metadata": {},
     "output_type": "execute_result"
    }
   ],
   "source": [
    "np.mean(zs[575:706])"
   ]
  },
  {
   "cell_type": "code",
   "execution_count": 26,
   "id": "a6c35314-6edf-463c-9e15-86ae6ded7121",
   "metadata": {},
   "outputs": [
    {
     "data": {
      "text/plain": [
       "(np.float64(46920776.3671875), np.float64(234298706.0546875))"
      ]
     },
     "execution_count": 26,
     "metadata": {},
     "output_type": "execute_result"
    }
   ],
   "source": [
    "freqs.min(), freqs.max()"
   ]
  },
  {
   "cell_type": "code",
   "execution_count": 24,
   "id": "6a71c815-6d16-4719-8c9f-22ef4051e14c",
   "metadata": {},
   "outputs": [
    {
     "data": {
      "text/plain": [
       "np.float64(8.078959732292539)"
      ]
     },
     "execution_count": 24,
     "metadata": {},
     "output_type": "execute_result"
    }
   ],
   "source": [
    "np.mean(zs[800:1000])"
   ]
  },
  {
   "cell_type": "code",
   "execution_count": null,
   "id": "52d1f5dd-0751-453b-a756-4b0f6bc85f4b",
   "metadata": {},
   "outputs": [],
   "source": []
  },
  {
   "cell_type": "code",
   "execution_count": null,
   "id": "46b645d7-929d-4faf-ad0f-e3eaaf0217c0",
   "metadata": {},
   "outputs": [],
   "source": [
    "with h5py.File(newfile, 'w') as _fl:\n",
    "    _fl.create_dataset(\"healpix_maps\", shape=(1563\n",
    "    with h5py.File(thefile, 'r') as fl:\n",
    "        data = fl['healpix_maps'][i]\n",
    "\n",
    "        for i in range(1536):\n",
    "            _fl['healpix_maps'][i] = data + 55.0"
   ]
  },
  {
   "cell_type": "code",
   "execution_count": 3,
   "id": "461ba6a1-8143-49fc-bc88-2a5659ebf195",
   "metadata": {},
   "outputs": [],
   "source": [
    "with h5py.File(\"sky_models/eor/healpix-maps1024-only-monopole.h5\", 'w') as _fl:\n",
    "    _fl.create_dataset(\"healpix_maps\", shape=(1563, 1024**2 * 12))\n",
    "    _fl['healpix_maps'][...] = 55.0"
   ]
  }
 ],
 "metadata": {
  "kernelspec": {
   "display_name": "h6c-sim",
   "language": "python",
   "name": "h6c-sim"
  },
  "language_info": {
   "codemirror_mode": {
    "name": "ipython",
    "version": 3
   },
   "file_extension": ".py",
   "mimetype": "text/x-python",
   "name": "python",
   "nbconvert_exporter": "python",
   "pygments_lexer": "ipython3",
   "version": "3.10.14"
  }
 },
 "nbformat": 4,
 "nbformat_minor": 5
}
