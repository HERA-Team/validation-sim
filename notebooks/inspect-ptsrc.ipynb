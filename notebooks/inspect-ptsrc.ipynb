{
 "cells": [
  {
   "cell_type": "markdown",
   "id": "a263199f-22e2-4028-ad19-bee012690311",
   "metadata": {},
   "source": [
    "# Inspect the Point-Source Visibility Simulations"
   ]
  },
  {
   "cell_type": "code",
   "execution_count": 2,
   "id": "c0156428-69b4-46c3-92fb-c88c572021d4",
   "metadata": {},
   "outputs": [],
   "source": [
    "from pyradiosky import SkyModel\n",
    "from pyuvdata.uvdata import FastUVH5Meta\n",
    "import numpy as np\n",
    "from pathlib import Path\n",
    "import sys"
   ]
  },
  {
   "cell_type": "code",
   "execution_count": null,
   "id": "c711c351-9801-48e7-af46-8e74cba05c01",
   "metadata": {},
   "outputs": [],
   "source": []
  }
 ],
 "metadata": {
  "kernelspec": {
   "display_name": "h6c",
   "language": "python",
   "name": "h6c"
  },
  "language_info": {
   "codemirror_mode": {
    "name": "ipython",
    "version": 3
   },
   "file_extension": ".py",
   "mimetype": "text/x-python",
   "name": "python",
   "nbconvert_exporter": "python",
   "pygments_lexer": "ipython3",
   "version": "3.10.7"
  }
 },
 "nbformat": 4,
 "nbformat_minor": 5
}
