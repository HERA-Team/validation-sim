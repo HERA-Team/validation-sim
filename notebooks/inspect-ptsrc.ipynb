{
 "cells": [
  {
   "cell_type": "markdown",
   "id": "a263199f-22e2-4028-ad19-bee012690311",
   "metadata": {},
   "source": [
    "# Inspect the Point-Source Visibility Simulations"
   ]
  },
  {
   "cell_type": "code",
   "execution_count": 22,
   "id": "c0156428-69b4-46c3-92fb-c88c572021d4",
   "metadata": {},
   "outputs": [],
   "source": [
    "from pyradiosky import SkyModel\n",
    "from pyuvdata.uvdata import FastUVH5Meta\n",
    "import numpy as np\n",
    "from pathlib import Path\n",
    "import h5py\n",
    "import sys"
   ]
  },
  {
   "cell_type": "code",
   "execution_count": 3,
   "id": "c711c351-9801-48e7-af46-8e74cba05c01",
   "metadata": {},
   "outputs": [],
   "source": [
    "sys.path.append(\"..\")"
   ]
  },
  {
   "cell_type": "code",
   "execution_count": 4,
   "id": "0e760205-efb2-4c8f-938f-0ff4478618cb",
   "metadata": {},
   "outputs": [],
   "source": [
    "from core import utils"
   ]
  },
  {
   "cell_type": "code",
   "execution_count": 5,
   "id": "44059573-d3e0-4a63-b0dc-f6b596bc68c9",
   "metadata": {},
   "outputs": [
    {
     "data": {
      "text/plain": [
       "'{sky_model}/nt17280-{chunks:03d}chunks'"
      ]
     },
     "execution_count": 5,
     "metadata": {},
     "output_type": "execute_result"
    }
   ],
   "source": [
    "utils.VIS_DIRFMT"
   ]
  },
  {
   "cell_type": "code",
   "execution_count": 12,
   "id": "67bbe605-c0e1-4c3e-b668-e1ebf57752bd",
   "metadata": {},
   "outputs": [],
   "source": [
    "ptsrc_files = sorted((utils.OUTDIR / utils.VIS_DIRFMT.format(sky_model='ptsrc256', chunks=24)).glob(\"*_chunk000.uvh5\"))"
   ]
  },
  {
   "cell_type": "code",
   "execution_count": 14,
   "id": "13aac0c1-7728-45ca-b2d6-8ee675b06d42",
   "metadata": {},
   "outputs": [
    {
     "data": {
      "text/plain": [
       "349"
      ]
     },
     "execution_count": 14,
     "metadata": {},
     "output_type": "execute_result"
    }
   ],
   "source": [
    "len(ptsrc_files)"
   ]
  },
  {
   "cell_type": "code",
   "execution_count": 15,
   "id": "9fd9495b-0225-446b-8b08-1fe7b514d178",
   "metadata": {},
   "outputs": [],
   "source": [
    "meta = FastUVH5Meta(ptsrc_files[0])"
   ]
  },
  {
   "cell_type": "code",
   "execution_count": 17,
   "id": "3c07f759-2900-4b74-93e4-3821dae94b0d",
   "metadata": {},
   "outputs": [],
   "source": [
    "antpairs = [\n",
    "    (1, 0),\n",
    "    (2, 0),\n",
    "    (4, 0),\n",
    "    (11, 0),\n",
    "    (23, 0),\n",
    "    (52, 0)\n",
    "]"
   ]
  },
  {
   "cell_type": "code",
   "execution_count": 18,
   "id": "ad369318-2145-4000-af12-e34ac7430686",
   "metadata": {},
   "outputs": [],
   "source": [
    "blidx = [meta.antpairs.index(p) for p in antpairs]"
   ]
  },
  {
   "cell_type": "code",
   "execution_count": 20,
   "id": "2614c86d-58c6-4d2c-8794-a0d10525c806",
   "metadata": {},
   "outputs": [],
   "source": [
    "polidx = [meta.pols.index('xx'),meta.pols.index('yy')]"
   ]
  },
  {
   "cell_type": "markdown",
   "id": "0de9104b-7ffa-4add-816a-ce3cd03a52c2",
   "metadata": {},
   "source": [
    "## Frequency-Based Inspection\n"
   ]
  },
  {
   "cell_type": "code",
   "execution_count": 23,
   "id": "0aa0d851-cd9f-47aa-8501-b5334dcf52e0",
   "metadata": {},
   "outputs": [
    {
     "name": "stdout",
     "output_type": "stream",
     "text": [
      "(1081440, 1, 4)\n"
     ]
    }
   ],
   "source": [
    "with h5py.File(ptsrc_files[0],'r') as _fl:\n",
    "    print(_fl['Data']['visdata'].shape)"
   ]
  },
  {
   "cell_type": "code",
   "execution_count": null,
   "id": "2a644da3-2a3e-4220-8523-2235626f814a",
   "metadata": {},
   "outputs": [],
   "source": [
    "all_data = []\n",
    "\n",
    "for i, fl in enumerate(ptsrc_files):\n",
    "    if not f'fch{i:04d}' in fl.stem:\n",
    "        print(f\"Got to {i}\")\n",
    "        break\n",
    "    \n",
    "    with h5py.File(fl,'r') as _fl:\n",
    "        d = _fl['Data']['visdata'][:, 0, polidx]\n",
    "        d.shape = (meta.Ntimes, meta.Nbls, len(polidx))\n",
    "        all_data.append(d[:, blidx])\n",
    "        "
   ]
  },
  {
   "cell_type": "code",
   "execution_count": null,
   "id": "8c02e609-de16-419b-8ec0-c7c204ec746e",
   "metadata": {},
   "outputs": [],
   "source": [
    "all_data = np.array(all_data)  # shape (Nfreq, Ntime, npol)"
   ]
  }
 ],
 "metadata": {
  "kernelspec": {
   "display_name": "h6c",
   "language": "python",
   "name": "h6c"
  },
  "language_info": {
   "codemirror_mode": {
    "name": "ipython",
    "version": 3
   },
   "file_extension": ".py",
   "mimetype": "text/x-python",
   "name": "python",
   "nbconvert_exporter": "python",
   "pygments_lexer": "ipython3",
   "version": "3.10.7"
  }
 },
 "nbformat": 4,
 "nbformat_minor": 5
}
