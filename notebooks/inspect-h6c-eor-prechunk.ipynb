{
 "cells": [
  {
   "cell_type": "markdown",
   "id": "8a0cd867-b43d-42d7-b541-6becc3c08d17",
   "metadata": {},
   "source": [
    "# Perform Sanity-Check of EOR-GRF visibility sims before chunking"
   ]
  },
  {
   "cell_type": "markdown",
   "id": "cbd98fc3-2c58-44df-b5e7-7c2b73d0083d",
   "metadata": {},
   "source": [
    "In this notebook, we check the EOR-GRF sims to ensure they have the correct power spectrum for a selection of baselines."
   ]
  },
  {
   "cell_type": "code",
   "execution_count": 2,
   "id": "34129cc3",
   "metadata": {},
   "outputs": [],
   "source": [
    "%load_ext autoreload\n",
    "%autoreload 2\n",
    "\n",
    "import numpy as np\n",
    "import time\n",
    "import sys\n",
    "import pyuvdata\n",
    "import matplotlib.pyplot as plt\n",
    "import hera_pspec as hp\n",
    "import h5py\n",
    "from pyuvdata.uvdata import FastUVH5Meta\n",
    "import copy\n",
    "from tqdm import tqdm_notebook\n",
    "\n",
    "sys.path.append(\"..\")\n",
    "from core import eor_utils, utils\n"
   ]
  },
  {
   "cell_type": "code",
   "execution_count": 43,
   "id": "364b07ae-9e63-4df2-9eac-9e130684fb77",
   "metadata": {},
   "outputs": [],
   "source": [
    "# DEFAULT PARAMETERS\n",
    "SKY_MODEL: str = \"eor-grf-1024\"\n",
    "PREFIX: str = \"final\"\n",
    "CHUNKS: int = 1\n",
    "LAYOUT: str = \"FULL\"\n",
    "REDUNDANT: bool = True\n",
    "\n",
    "POWER_SPECTRAL_IDX = 0  # Re-adjustment of pspec index to keep SNR constant\n",
    "\n",
    "BASELINES_TO_INSPECT: list[tuple[int,int]] = [\n",
    "    (0, 1),\n",
    "    (0, 2),\n",
    "    (0, 4),\n",
    "    (0, 11),\n",
    "    (0, 23),\n",
    "    (0, 52),\n",
    "    (155, 175), # Long EW baseline\n",
    "    (0, 308),  # long NS baseline\n",
    "]\n",
    "\n",
    "# The following should divide 17280 evenly.\n",
    "EVERY_NTH_TIME: int = 180\n",
    "BAND: tuple[int, int] = (500, 650)"
   ]
  },
  {
   "cell_type": "markdown",
   "id": "7e3a8d3f-2336-4b0c-83f2-ef7b6f845dc9",
   "metadata": {},
   "source": [
    "## Setup"
   ]
  },
  {
   "cell_type": "code",
   "execution_count": 4,
   "id": "2962654f-bfb3-4805-95d7-c4e15219499b",
   "metadata": {},
   "outputs": [],
   "source": [
    "direc = utils.OUTDIR / utils.get_direc(SKY_MODEL, CHUNKS, LAYOUT, REDUNDANT, PREFIX)\n",
    "files = sorted(direc.glob(\"*.uvh5\"))\n",
    "\n",
    "# # down-select to specified band\n",
    "files = [fl for fl in files if BAND[0] <= utils.parse_fname(fl.stem)['fch'] < BAND[1]]"
   ]
  },
  {
   "cell_type": "code",
   "execution_count": 5,
   "id": "20fa1f63-b897-449c-a42d-9f260e8bba55",
   "metadata": {},
   "outputs": [],
   "source": [
    "meta = FastUVH5Meta(files[0])"
   ]
  },
  {
   "cell_type": "code",
   "execution_count": 6,
   "id": "19adacb7-37d3-4fec-8686-3ee42af58f5c",
   "metadata": {},
   "outputs": [],
   "source": [
    "blidx = np.array([meta.antpairs.index(p) if p in meta.antpairs else meta.antpairs.index(p[::-1]) for p in BASELINES_TO_INSPECT])\n",
    "\n",
    "sorter = np.argsort(blidx)\n",
    "blidx = blidx[sorter]\n",
    "BASELINES_TO_INSPECT = [BASELINES_TO_INSPECT[i] for i in sorter]"
   ]
  },
  {
   "cell_type": "code",
   "execution_count": 44,
   "id": "a2908b38-6dc5-44a7-8ed2-1605a6933bef",
   "metadata": {},
   "outputs": [],
   "source": [
    "NTIMES = 17280 // EVERY_NTH_TIME"
   ]
  },
  {
   "cell_type": "markdown",
   "id": "db071552-c945-4a4b-8649-10c07d35366b",
   "metadata": {},
   "source": [
    "## Obtain Power Spectrum Definition"
   ]
  },
  {
   "cell_type": "code",
   "execution_count": 7,
   "id": "f4d33992-ddcd-4e4e-8e22-96404c536dd3",
   "metadata": {},
   "outputs": [],
   "source": [
    "cosmo = eor_utils.get_planck15_cosmo()"
   ]
  },
  {
   "cell_type": "code",
   "execution_count": 8,
   "id": "0178a977",
   "metadata": {},
   "outputs": [],
   "source": [
    "# Load beam-dependent normalization data\n",
    "omegas_data_path = utils.BEAMDIR / 'vivaldi_solid_angle_and_reciever_power.h5'\n",
    "\n",
    "with h5py.File(omegas_data_path, 'r') as h5f:\n",
    "    Omega = h5f['directivity_integral'][()]\n",
    "    Omegapp = h5f['directivity_square_integral'][()]\n",
    "    \n",
    "# hera_pspec beam initiated from pre-computed integral data\n",
    "hpsb = hp.pspecbeam.PSpecBeamFromArray(Omega, Omegapp, utils.FREQS_DICT['H4C'], cosmo=cosmo)"
   ]
  },
  {
   "cell_type": "code",
   "execution_count": 9,
   "id": "ec2b8859-05cd-4069-9660-35832d62f243",
   "metadata": {},
   "outputs": [],
   "source": [
    "pspec_def = eor_utils.get_pspec_from_covariance_file(utils.SKYDIR / 'raw' / 'covariance.h5')"
   ]
  },
  {
   "cell_type": "markdown",
   "id": "532905c9-c934-4b02-aaa5-b55c403a551f",
   "metadata": {},
   "source": [
    "## Read Data"
   ]
  },
  {
   "cell_type": "code",
   "execution_count": 10,
   "id": "7b90f1d3",
   "metadata": {},
   "outputs": [],
   "source": [
    "pyuvdata_nocheck = {\n",
    "    'run_check': False,\n",
    "    'check_extra': False,\n",
    "    'run_check_acceptability': False,\n",
    "    'strict_uvw_antpos_check': False,\n",
    "    'check_autos': False,\n",
    "    'fix_autos': False\n",
    "}"
   ]
  },
  {
   "cell_type": "markdown",
   "id": "5188108e-da03-45d9-88aa-39aee65d079b",
   "metadata": {},
   "source": [
    "We read only a single time-stamp here, and only the baselines we care about. This dramatically speeds up reading."
   ]
  },
  {
   "cell_type": "code",
   "execution_count": 46,
   "id": "2f2c4645-ea8e-482c-9d3d-83d8fbfa6f63",
   "metadata": {},
   "outputs": [],
   "source": [
    "blt_idx = np.concatenate([blidx + i*meta.Nbls*EVERY_NTH_TIME for i in range(NTIMES)])"
   ]
  },
  {
   "cell_type": "code",
   "execution_count": 48,
   "id": "6508023f-5bf0-4a68-829d-03e000f2e16f",
   "metadata": {},
   "outputs": [
    {
     "name": "stderr",
     "output_type": "stream",
     "text": [
      "antenna_diameters are not set or are being overwritten. antenna_diameters are set using values from known telescopes for HERA.\n"
     ]
    },
    {
     "name": "stdout",
     "output_type": "stream",
     "text": [
      "CPU times: user 4.8 s, sys: 2.82 s, total: 7.62 s\n",
      "Wall time: 15.1 s\n"
     ]
    }
   ],
   "source": [
    "%%time\n",
    "uvd = pyuvdata.UVData.from_file(files[0], blt_inds=blt_idx, **pyuvdata_nocheck)"
   ]
  },
  {
   "cell_type": "code",
   "execution_count": 49,
   "id": "89546fa8-ca1f-45a1-90cf-44156d7d5a95",
   "metadata": {},
   "outputs": [],
   "source": [
    "uvd.freq_array = utils.FREQS_DICT['H4C'][BAND[0]:BAND[1]]\n",
    "\n",
    "dd = uvd.data_array.copy()\n",
    "\n",
    "uvd.data_array = np.zeros((dd.shape[0], BAND[1] - BAND[0], dd.shape[2]), dtype=complex)\n",
    "uvd.data_array[:, 0, :] = dd[:, 0]\n",
    "\n",
    "# Re-set arrays that reference Nfreqs\n",
    "uvd.nsample_array = np.ones(uvd.data_array.shape, dtype=float)\n",
    "uvd.flag_array = np.zeros(uvd.data_array.shape, dtype=bool)\n",
    "uvd.Nfreqs = BAND[1] - BAND[0]\n",
    "uvd.channel_width = np.ones(BAND[1] - BAND[0]) * (uvd.freq_array[1] - uvd.freq_array[0])\n",
    "uvd.flex_spw_id_array = np.zeros(BAND[1] - BAND[0], dtype=int)"
   ]
  },
  {
   "cell_type": "code",
   "execution_count": 50,
   "id": "2bff8ab6-87ae-47f7-b175-9aa8df7b6fce",
   "metadata": {},
   "outputs": [
    {
     "name": "stdout",
     "output_type": "stream",
     "text": [
      "CPU times: user 8.98 s, sys: 1min 4s, total: 1min 13s\n",
      "Wall time: 21min 26s\n"
     ]
    }
   ],
   "source": [
    "%%time\n",
    "for i, fl in enumerate(files[1:]):\n",
    "    with h5py.File(fl, 'r') as _fl:\n",
    "        dd = _fl['Data']['visdata'][blt_idx, 0, :]\n",
    "        uvd.data_array[:, i] = dd"
   ]
  },
  {
   "cell_type": "code",
   "execution_count": 51,
   "id": "fe44bdb4-b22e-4157-8490-00f04ecb5bcc",
   "metadata": {},
   "outputs": [
    {
     "data": {
      "text/plain": [
       "True"
      ]
     },
     "execution_count": 51,
     "metadata": {},
     "output_type": "execute_result"
    }
   ],
   "source": [
    "uvd.check()"
   ]
  },
  {
   "cell_type": "markdown",
   "id": "e293d1d1-ee88-4e84-b657-5eccc2711966",
   "metadata": {},
   "source": [
    "## Compute Power Spectra from Data"
   ]
  },
  {
   "cell_type": "code",
   "execution_count": 52,
   "id": "54514c6e",
   "metadata": {},
   "outputs": [
    {
     "name": "stderr",
     "output_type": "stream",
     "text": [
      "No polarization convention in uvd1. Considering it to be \"avg\".\n",
      "No polarization convention in uvd2. Considering it to be \"avg\".\n",
      "Cannot convert dset 1 Jy -> mK because vis_units = mK\n"
     ]
    }
   ],
   "source": [
    "uvd_pstokes = hp.pstokes.construct_pstokes(uvd, uvd, pstokes='pI', run_check=False)\n",
    "ds = hp.PSpecData(dsets=[uvd_pstokes, uvd_pstokes], beam=hpsb)\n",
    "ds.Jy_to_mK()"
   ]
  },
  {
   "cell_type": "code",
   "execution_count": 53,
   "id": "944e03c6-29ce-485b-8a9b-c58480807519",
   "metadata": {},
   "outputs": [],
   "source": [
    "ant_pairs = [ant_pair for ant_pair in uvd.get_antpairs() if ant_pair[0] != ant_pair[1]]\n",
    "spw_ranges = [(0, BAND[1] - BAND[0])] # use the full band, since we already down-selected\n",
    "\n",
    "uvp = ds.pspec(\n",
    "    ant_pairs, ant_pairs,\n",
    "    dsets=(0,1),\n",
    "    pols=('pI', 'pI'),\n",
    "    input_data_weight='identity',\n",
    "    norm='I',\n",
    "    taper='blackman-harris',\n",
    "    spw_ranges=spw_ranges,\n",
    "    store_window=False,\n",
    "    verbose=True,\n",
    "    allow_fft=True,\n",
    "    exact_norm=False\n",
    ")\n",
    "\n",
    "# time average for each (delay, baseline)\n",
    "uvp.average_spectra(time_avg=True, inplace=True)"
   ]
  },
  {
   "cell_type": "code",
   "execution_count": 54,
   "id": "155c6f18-741c-4360-89d6-0220706316bc",
   "metadata": {},
   "outputs": [],
   "source": [
    "k_bin_widths = 0.05\n",
    "k_bins = np.arange(0,2.0,k_bin_widths)"
   ]
  },
  {
   "cell_type": "code",
   "execution_count": 55,
   "id": "5f16c26b",
   "metadata": {},
   "outputs": [
    {
     "name": "stdout",
     "output_type": "stream",
     "text": [
      "CPU times: user 23.3 ms, sys: 727 μs, total: 24.1 ms\n",
      "Wall time: 18.2 ms\n"
     ]
    }
   ],
   "source": [
    "%%time\n",
    "\n",
    "uvp_sphr = copy.deepcopy(uvp)\n",
    "\n",
    "# average over (delay, baseline) for each k\n",
    "uvp_sphr = hp.grouping.spherical_average(uvp_sphr, k_bins, k_bin_widths, run_check=False)"
   ]
  },
  {
   "cell_type": "code",
   "execution_count": 56,
   "id": "88e98019-1ff6-4a89-80a3-7325e31ee06d",
   "metadata": {},
   "outputs": [
    {
     "data": {
      "image/png": "[encoded data removed]",
      "text/plain": [
       "<Figure size 640x480 with 1 Axes>"
      ]
     },
     "metadata": {},
     "output_type": "display_data"
    }
   ],
   "source": [
    "littleh = True\n",
    "key = uvp_sphr.get_all_keys()[0]\n",
    "\n",
    "z_mean = np.mean(eor_utils.get_zs(cosmo, uvp, 0))\n",
    "\n",
    "pspec_true = eor_utils.true_power_spectrum(cosmo, pspec_def, k_bins[1:], z_mean, rescale_idx=POWER_SPECTRAL_IDX, littleh=littleh)\n",
    "pspec_expected = eor_utils.expected_power_spectrum(cosmo, pspec_def, k_bins, uvp, spw=0, rescale_idx=POWER_SPECTRAL_IDX, littleh=littleh)\n",
    "\n",
    "plt.plot(k_bins[1:], pspec_true, label='true power spectrum', color='tab:red')\n",
    "plt.plot(k_bins, pspec_expected, label='expected power spectrum', color='tab:orange')\n",
    "\n",
    "# The average over all baselines\n",
    "pspec_est = uvp_sphr.get_data(key)[0].real\n",
    "plt.plot(k_bins, pspec_est*4, 'o.x'[i%3], label=f'pspec estimate', color='k')\n",
    "\n",
    "# Each baseline\n",
    "for i, key in enumerate(uvp.get_all_keys()):\n",
    "    kmag = np.sqrt(uvp.get_kparas(0)**2 + uvp.get_kperps(0)[i]**2)\n",
    "    d = uvp.get_data(key)[0].real\n",
    "    plt.plot(kmag, d*4, '.', color='gray', alpha=0.3)\n",
    "\n",
    "plt.yscale('log')\n",
    "plt.ylabel(r'$P(k,z)\\ [{\\rm mK}^2\\ h^{-3}\\ {\\rm Mpc}^3]$', fontsize=14)\n",
    "plt.xlabel(r'$k\\ [h\\ {\\rm Mpc}^{-1}]$', fontsize=20)\n",
    "plt.title(fr'Redshift $z ={z_mean:.2f}$')\n",
    "\n",
    "plt.grid()\n",
    "plt.legend();"
   ]
  }
 ],
 "metadata": {
  "kernelspec": {
   "display_name": "h6c-sim",
   "language": "python",
   "name": "h6c-sim"
  },
  "language_info": {
   "codemirror_mode": {
    "name": "ipython",
    "version": 3
   },
   "file_extension": ".py",
   "mimetype": "text/x-python",
   "name": "python",
   "nbconvert_exporter": "python",
   "pygments_lexer": "ipython3",
   "version": "3.10.14"
  },
  "toc": {
   "base_numbering": 1,
   "nav_menu": {},
   "number_sections": true,
   "sideBar": true,
   "skip_h1_title": true,
   "title_cell": "Table of Contents",
   "title_sidebar": "Contents",
   "toc_cell": true,
   "toc_position": {},
   "toc_section_display": true,
   "toc_window_display": false
  },
  "toc-showtags": false
 },
 "nbformat": 4,
 "nbformat_minor": 5
}
